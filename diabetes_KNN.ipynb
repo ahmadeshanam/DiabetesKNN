{
 "cells": [
  {
   "cell_type": "markdown",
   "metadata": {},
   "source": [
    "### Diabetes predict using KNN Classification\n",
    "Ahmad Sotoude <br>\n",
    "<a href=\"https://github.com/ahmadeshanam\">link to github</a>"
   ]
  },
  {
   "cell_type": "markdown",
   "metadata": {},
   "source": [
    "importing necessary libraries:"
   ]
  },
  {
   "cell_type": "code",
   "execution_count": 1,
   "metadata": {},
   "outputs": [],
   "source": [
    "import numpy as np\n",
    "import pandas as pd\n",
    "import matplotlib.pyplot as plt\n",
    "%matplotlib inline"
   ]
  },
  {
   "cell_type": "markdown",
   "metadata": {},
   "source": [
    "importing data:"
   ]
  },
  {
   "cell_type": "code",
   "execution_count": 2,
   "metadata": {},
   "outputs": [
    {
     "data": {
      "text/html": [
       "<div>\n",
       "<style scoped>\n",
       "    .dataframe tbody tr th:only-of-type {\n",
       "        vertical-align: middle;\n",
       "    }\n",
       "\n",
       "    .dataframe tbody tr th {\n",
       "        vertical-align: top;\n",
       "    }\n",
       "\n",
       "    .dataframe thead th {\n",
       "        text-align: right;\n",
       "    }\n",
       "</style>\n",
       "<table border=\"1\" class=\"dataframe\">\n",
       "  <thead>\n",
       "    <tr style=\"text-align: right;\">\n",
       "      <th></th>\n",
       "      <th>Pregnancies</th>\n",
       "      <th>Glucose</th>\n",
       "      <th>BloodPressure</th>\n",
       "      <th>SkinThickness</th>\n",
       "      <th>Insulin</th>\n",
       "      <th>BMI</th>\n",
       "      <th>DiabetesPedigreeFunction</th>\n",
       "      <th>Age</th>\n",
       "      <th>Outcome</th>\n",
       "    </tr>\n",
       "  </thead>\n",
       "  <tbody>\n",
       "    <tr>\n",
       "      <th>0</th>\n",
       "      <td>6</td>\n",
       "      <td>148</td>\n",
       "      <td>72</td>\n",
       "      <td>35</td>\n",
       "      <td>0</td>\n",
       "      <td>33.6</td>\n",
       "      <td>0.627</td>\n",
       "      <td>50</td>\n",
       "      <td>1</td>\n",
       "    </tr>\n",
       "    <tr>\n",
       "      <th>1</th>\n",
       "      <td>1</td>\n",
       "      <td>85</td>\n",
       "      <td>66</td>\n",
       "      <td>29</td>\n",
       "      <td>0</td>\n",
       "      <td>26.6</td>\n",
       "      <td>0.351</td>\n",
       "      <td>31</td>\n",
       "      <td>0</td>\n",
       "    </tr>\n",
       "    <tr>\n",
       "      <th>2</th>\n",
       "      <td>8</td>\n",
       "      <td>183</td>\n",
       "      <td>64</td>\n",
       "      <td>0</td>\n",
       "      <td>0</td>\n",
       "      <td>23.3</td>\n",
       "      <td>0.672</td>\n",
       "      <td>32</td>\n",
       "      <td>1</td>\n",
       "    </tr>\n",
       "    <tr>\n",
       "      <th>3</th>\n",
       "      <td>1</td>\n",
       "      <td>89</td>\n",
       "      <td>66</td>\n",
       "      <td>23</td>\n",
       "      <td>94</td>\n",
       "      <td>28.1</td>\n",
       "      <td>0.167</td>\n",
       "      <td>21</td>\n",
       "      <td>0</td>\n",
       "    </tr>\n",
       "    <tr>\n",
       "      <th>4</th>\n",
       "      <td>0</td>\n",
       "      <td>137</td>\n",
       "      <td>40</td>\n",
       "      <td>35</td>\n",
       "      <td>168</td>\n",
       "      <td>43.1</td>\n",
       "      <td>2.288</td>\n",
       "      <td>33</td>\n",
       "      <td>1</td>\n",
       "    </tr>\n",
       "  </tbody>\n",
       "</table>\n",
       "</div>"
      ],
      "text/plain": [
       "   Pregnancies  Glucose  BloodPressure  SkinThickness  Insulin   BMI  \\\n",
       "0            6      148             72             35        0  33.6   \n",
       "1            1       85             66             29        0  26.6   \n",
       "2            8      183             64              0        0  23.3   \n",
       "3            1       89             66             23       94  28.1   \n",
       "4            0      137             40             35      168  43.1   \n",
       "\n",
       "   DiabetesPedigreeFunction  Age  Outcome  \n",
       "0                     0.627   50        1  \n",
       "1                     0.351   31        0  \n",
       "2                     0.672   32        1  \n",
       "3                     0.167   21        0  \n",
       "4                     2.288   33        1  "
      ]
     },
     "execution_count": 2,
     "metadata": {},
     "output_type": "execute_result"
    }
   ],
   "source": [
    "df = pd.read_csv('diabetes.csv')\n",
    "df.head()"
   ]
  },
  {
   "cell_type": "markdown",
   "metadata": {},
   "source": [
    "data shape and features:"
   ]
  },
  {
   "cell_type": "code",
   "execution_count": 3,
   "metadata": {},
   "outputs": [
    {
     "name": "stdout",
     "output_type": "stream",
     "text": [
      "rows:  767\n",
      "cols:  9\n",
      "columns:  ['Pregnancies' 'Glucose' 'BloodPressure' 'SkinThickness' 'Insulin' 'BMI'\n",
      " 'DiabetesPedigreeFunction' 'Age' 'Outcome']\n"
     ]
    }
   ],
   "source": [
    "print('rows: ',df.shape[0])\n",
    "print('cols: ',df.shape[1])\n",
    "print('columns: ',df.columns.values)"
   ]
  },
  {
   "cell_type": "markdown",
   "metadata": {},
   "source": [
    "checking for null values:"
   ]
  },
  {
   "cell_type": "code",
   "execution_count": 4,
   "metadata": {},
   "outputs": [
    {
     "name": "stdout",
     "output_type": "stream",
     "text": [
      "<class 'pandas.core.frame.DataFrame'>\n",
      "RangeIndex: 767 entries, 0 to 766\n",
      "Data columns (total 9 columns):\n",
      " #   Column                    Non-Null Count  Dtype  \n",
      "---  ------                    --------------  -----  \n",
      " 0   Pregnancies               767 non-null    int64  \n",
      " 1   Glucose                   767 non-null    int64  \n",
      " 2   BloodPressure             767 non-null    int64  \n",
      " 3   SkinThickness             767 non-null    int64  \n",
      " 4   Insulin                   767 non-null    int64  \n",
      " 5   BMI                       767 non-null    float64\n",
      " 6   DiabetesPedigreeFunction  767 non-null    float64\n",
      " 7   Age                       767 non-null    int64  \n",
      " 8   Outcome                   767 non-null    int64  \n",
      "dtypes: float64(2), int64(7)\n",
      "memory usage: 54.1 KB\n",
      "\n",
      "\n",
      "Null Values:\n"
     ]
    },
    {
     "data": {
      "text/plain": [
       "Pregnancies                 0\n",
       "Glucose                     0\n",
       "BloodPressure               0\n",
       "SkinThickness               0\n",
       "Insulin                     0\n",
       "BMI                         0\n",
       "DiabetesPedigreeFunction    0\n",
       "Age                         0\n",
       "Outcome                     0\n",
       "dtype: int64"
      ]
     },
     "execution_count": 4,
     "metadata": {},
     "output_type": "execute_result"
    }
   ],
   "source": [
    "df.info()\n",
    "print('\\n\\nNull Values:')\n",
    "df.isna().sum()"
   ]
  },
  {
   "cell_type": "markdown",
   "metadata": {},
   "source": [
    "understanding data:"
   ]
  },
  {
   "cell_type": "code",
   "execution_count": 5,
   "metadata": {},
   "outputs": [
    {
     "data": {
      "text/html": [
       "<div>\n",
       "<style scoped>\n",
       "    .dataframe tbody tr th:only-of-type {\n",
       "        vertical-align: middle;\n",
       "    }\n",
       "\n",
       "    .dataframe tbody tr th {\n",
       "        vertical-align: top;\n",
       "    }\n",
       "\n",
       "    .dataframe thead th {\n",
       "        text-align: right;\n",
       "    }\n",
       "</style>\n",
       "<table border=\"1\" class=\"dataframe\">\n",
       "  <thead>\n",
       "    <tr style=\"text-align: right;\">\n",
       "      <th></th>\n",
       "      <th>Pregnancies</th>\n",
       "      <th>Glucose</th>\n",
       "      <th>BloodPressure</th>\n",
       "      <th>SkinThickness</th>\n",
       "      <th>Insulin</th>\n",
       "      <th>BMI</th>\n",
       "      <th>DiabetesPedigreeFunction</th>\n",
       "      <th>Age</th>\n",
       "      <th>Outcome</th>\n",
       "    </tr>\n",
       "  </thead>\n",
       "  <tbody>\n",
       "    <tr>\n",
       "      <th>count</th>\n",
       "      <td>767.000000</td>\n",
       "      <td>767.000000</td>\n",
       "      <td>767.000000</td>\n",
       "      <td>767.000000</td>\n",
       "      <td>767.000000</td>\n",
       "      <td>767.000000</td>\n",
       "      <td>767.000000</td>\n",
       "      <td>767.000000</td>\n",
       "      <td>767.000000</td>\n",
       "    </tr>\n",
       "    <tr>\n",
       "      <th>mean</th>\n",
       "      <td>3.848761</td>\n",
       "      <td>120.930900</td>\n",
       "      <td>69.104302</td>\n",
       "      <td>20.522816</td>\n",
       "      <td>79.903520</td>\n",
       "      <td>31.994654</td>\n",
       "      <td>0.472081</td>\n",
       "      <td>33.254237</td>\n",
       "      <td>0.349413</td>\n",
       "    </tr>\n",
       "    <tr>\n",
       "      <th>std</th>\n",
       "      <td>3.370207</td>\n",
       "      <td>31.977581</td>\n",
       "      <td>19.368410</td>\n",
       "      <td>15.958143</td>\n",
       "      <td>115.283105</td>\n",
       "      <td>7.889095</td>\n",
       "      <td>0.331496</td>\n",
       "      <td>11.762079</td>\n",
       "      <td>0.477096</td>\n",
       "    </tr>\n",
       "    <tr>\n",
       "      <th>min</th>\n",
       "      <td>0.000000</td>\n",
       "      <td>0.000000</td>\n",
       "      <td>0.000000</td>\n",
       "      <td>0.000000</td>\n",
       "      <td>0.000000</td>\n",
       "      <td>0.000000</td>\n",
       "      <td>0.078000</td>\n",
       "      <td>21.000000</td>\n",
       "      <td>0.000000</td>\n",
       "    </tr>\n",
       "    <tr>\n",
       "      <th>25%</th>\n",
       "      <td>1.000000</td>\n",
       "      <td>99.000000</td>\n",
       "      <td>62.000000</td>\n",
       "      <td>0.000000</td>\n",
       "      <td>0.000000</td>\n",
       "      <td>27.300000</td>\n",
       "      <td>0.243500</td>\n",
       "      <td>24.000000</td>\n",
       "      <td>0.000000</td>\n",
       "    </tr>\n",
       "    <tr>\n",
       "      <th>50%</th>\n",
       "      <td>3.000000</td>\n",
       "      <td>117.000000</td>\n",
       "      <td>72.000000</td>\n",
       "      <td>23.000000</td>\n",
       "      <td>32.000000</td>\n",
       "      <td>32.000000</td>\n",
       "      <td>0.374000</td>\n",
       "      <td>29.000000</td>\n",
       "      <td>0.000000</td>\n",
       "    </tr>\n",
       "    <tr>\n",
       "      <th>75%</th>\n",
       "      <td>6.000000</td>\n",
       "      <td>140.500000</td>\n",
       "      <td>80.000000</td>\n",
       "      <td>32.000000</td>\n",
       "      <td>127.500000</td>\n",
       "      <td>36.600000</td>\n",
       "      <td>0.626500</td>\n",
       "      <td>41.000000</td>\n",
       "      <td>1.000000</td>\n",
       "    </tr>\n",
       "    <tr>\n",
       "      <th>max</th>\n",
       "      <td>17.000000</td>\n",
       "      <td>199.000000</td>\n",
       "      <td>122.000000</td>\n",
       "      <td>99.000000</td>\n",
       "      <td>846.000000</td>\n",
       "      <td>67.100000</td>\n",
       "      <td>2.420000</td>\n",
       "      <td>81.000000</td>\n",
       "      <td>1.000000</td>\n",
       "    </tr>\n",
       "  </tbody>\n",
       "</table>\n",
       "</div>"
      ],
      "text/plain": [
       "       Pregnancies     Glucose  BloodPressure  SkinThickness     Insulin  \\\n",
       "count   767.000000  767.000000     767.000000     767.000000  767.000000   \n",
       "mean      3.848761  120.930900      69.104302      20.522816   79.903520   \n",
       "std       3.370207   31.977581      19.368410      15.958143  115.283105   \n",
       "min       0.000000    0.000000       0.000000       0.000000    0.000000   \n",
       "25%       1.000000   99.000000      62.000000       0.000000    0.000000   \n",
       "50%       3.000000  117.000000      72.000000      23.000000   32.000000   \n",
       "75%       6.000000  140.500000      80.000000      32.000000  127.500000   \n",
       "max      17.000000  199.000000     122.000000      99.000000  846.000000   \n",
       "\n",
       "              BMI  DiabetesPedigreeFunction         Age     Outcome  \n",
       "count  767.000000                767.000000  767.000000  767.000000  \n",
       "mean    31.994654                  0.472081   33.254237    0.349413  \n",
       "std      7.889095                  0.331496   11.762079    0.477096  \n",
       "min      0.000000                  0.078000   21.000000    0.000000  \n",
       "25%     27.300000                  0.243500   24.000000    0.000000  \n",
       "50%     32.000000                  0.374000   29.000000    0.000000  \n",
       "75%     36.600000                  0.626500   41.000000    1.000000  \n",
       "max     67.100000                  2.420000   81.000000    1.000000  "
      ]
     },
     "execution_count": 5,
     "metadata": {},
     "output_type": "execute_result"
    }
   ],
   "source": [
    "df.describe()"
   ]
  },
  {
   "cell_type": "markdown",
   "metadata": {},
   "source": [
    "as shown above, values have the minimum of 0 which is impossible<br>\n",
    "for some of them like BMI. We consider them as NULL values."
   ]
  },
  {
   "cell_type": "code",
   "execution_count": 6,
   "metadata": {},
   "outputs": [
    {
     "name": "stdout",
     "output_type": "stream",
     "text": [
      "<class 'pandas.core.frame.DataFrame'>\n",
      "RangeIndex: 767 entries, 0 to 766\n",
      "Data columns (total 9 columns):\n",
      " #   Column                    Non-Null Count  Dtype  \n",
      "---  ------                    --------------  -----  \n",
      " 0   Pregnancies               767 non-null    int64  \n",
      " 1   Glucose                   762 non-null    float64\n",
      " 2   BloodPressure             732 non-null    float64\n",
      " 3   SkinThickness             540 non-null    float64\n",
      " 4   Insulin                   394 non-null    float64\n",
      " 5   BMI                       756 non-null    float64\n",
      " 6   DiabetesPedigreeFunction  767 non-null    float64\n",
      " 7   Age                       767 non-null    int64  \n",
      " 8   Outcome                   767 non-null    int64  \n",
      "dtypes: float64(6), int64(3)\n",
      "memory usage: 54.1 KB\n",
      "\n",
      "\n",
      "Null Values:\n"
     ]
    },
    {
     "data": {
      "text/plain": [
       "Pregnancies                   0\n",
       "Glucose                       5\n",
       "BloodPressure                35\n",
       "SkinThickness               227\n",
       "Insulin                     373\n",
       "BMI                          11\n",
       "DiabetesPedigreeFunction      0\n",
       "Age                           0\n",
       "Outcome                       0\n",
       "dtype: int64"
      ]
     },
     "execution_count": 6,
     "metadata": {},
     "output_type": "execute_result"
    }
   ],
   "source": [
    "df.loc[(df['BMI'] == 0) , 'BMI'] = np.nan\n",
    "df.loc[(df['Glucose'] == 0) , 'Glucose'] = np.nan\n",
    "df.loc[(df['BloodPressure'] == 0) , 'BloodPressure'] = np.nan\n",
    "df.loc[(df['SkinThickness'] == 0) , 'SkinThickness'] = np.nan\n",
    "df.loc[(df['Insulin'] == 0) , 'Insulin'] = np.nan\n",
    "\n",
    "df.info()\n",
    "print('\\n\\nNull Values:')\n",
    "df.isna().sum()"
   ]
  },
  {
   "cell_type": "markdown",
   "metadata": {},
   "source": [
    "since we dont want to lose data, <br>\n",
    "we calculate mean for each age and <br>\n",
    "replace the null values with them:"
   ]
  },
  {
   "cell_type": "code",
   "execution_count": 7,
   "metadata": {},
   "outputs": [],
   "source": [
    "df['AgeGroup'] = (df['Age'] // 10) * 10"
   ]
  },
  {
   "cell_type": "code",
   "execution_count": 8,
   "metadata": {},
   "outputs": [
    {
     "name": "stdout",
     "output_type": "stream",
     "text": [
      "mean BMI in AgeGroup:\n",
      "    AgeGroup        BMI\n",
      "0        20  32.041860\n",
      "1        30  32.670122\n",
      "2        40  34.617797\n",
      "\n",
      "mean SkinThickness in AgeGroup:\n",
      "    AgeGroup  SkinThickness\n",
      "0        20      27.759615\n",
      "1        30      30.620370\n",
      "2        40      31.706667\n",
      "\n",
      "mean Glucose in AgeGroup:\n",
      "    AgeGroup     Glucose\n",
      "0        20  114.668367\n",
      "1        30  126.073171\n",
      "2        40  125.709402\n",
      "\n",
      "mean BloodPressure in AgeGroup:\n",
      "    AgeGroup  BloodPressure\n",
      "0        20      68.821333\n",
      "1        30      73.685897\n",
      "2        40      77.212389\n",
      "\n",
      "mean Insulin in AgeGroup:\n",
      "    AgeGroup     Insulin\n",
      "0        20  139.250000\n",
      "1        30  164.602564\n",
      "2        40  163.913043\n"
     ]
    }
   ],
   "source": [
    "mean_bmi_by_age = df.groupby('AgeGroup')['BMI'].mean().reset_index()\n",
    "print('mean BMI in AgeGroup:\\n',mean_bmi_by_age.head(3))\n",
    "\n",
    "mean_skin_by_age = df.groupby('AgeGroup')['SkinThickness'].mean().reset_index()\n",
    "print('\\nmean SkinThickness in AgeGroup:\\n',mean_skin_by_age.head(3))\n",
    "\n",
    "mean_Glucose_by_age = df.groupby('AgeGroup')['Glucose'].mean().reset_index()\n",
    "print('\\nmean Glucose in AgeGroup:\\n',mean_Glucose_by_age.head(3))\n",
    "\n",
    "mean_BP_by_age = df.groupby('AgeGroup')['BloodPressure'].mean().reset_index()\n",
    "print('\\nmean BloodPressure in AgeGroup:\\n',mean_BP_by_age.head(3))\n",
    "\n",
    "mean_Insulin_by_age = df.groupby('AgeGroup')['Insulin'].mean().reset_index()\n",
    "print('\\nmean Insulin in AgeGroup:\\n',mean_Insulin_by_age.head(3))\n"
   ]
  },
  {
   "cell_type": "code",
   "execution_count": 9,
   "metadata": {},
   "outputs": [
    {
     "name": "stdout",
     "output_type": "stream",
     "text": [
      "   AgeGroup  SkinThickness\n",
      "0        20      27.759615\n",
      "1        30      30.620370\n",
      "2        40      31.706667\n",
      "3        50      30.125000\n",
      "4        60      34.545455\n",
      "5        70      18.000000\n",
      "6        80      33.000000 \n",
      "\n",
      "   AgeGroup     Insulin\n",
      "0        20  139.250000\n",
      "1        30  164.602564\n",
      "2        40  163.913043\n",
      "3        50  249.440000\n",
      "4        60  297.750000\n",
      "5        70         NaN\n",
      "6        80   60.000000\n"
     ]
    }
   ],
   "source": [
    "print(mean_skin_by_age,'\\n')\n",
    "print(mean_Insulin_by_age)"
   ]
  },
  {
   "cell_type": "markdown",
   "metadata": {},
   "source": [
    "still there are some inaccuracies in the tables above"
   ]
  },
  {
   "cell_type": "code",
   "execution_count": 10,
   "metadata": {},
   "outputs": [],
   "source": [
    "mean_Insulin_by_age.loc[mean_Insulin_by_age['AgeGroup']>60,'Insulin'] = mean_Insulin_by_age['Insulin'].mean()\n",
    "mean_skin_by_age.loc[mean_skin_by_age['AgeGroup']>60,'SkinThickness'] = mean_skin_by_age['SkinThickness'].mean()"
   ]
  },
  {
   "cell_type": "markdown",
   "metadata": {},
   "source": [
    "now we replace NaNs with proper values"
   ]
  },
  {
   "cell_type": "code",
   "execution_count": 11,
   "metadata": {},
   "outputs": [
    {
     "name": "stdout",
     "output_type": "stream",
     "text": [
      "\n",
      "\n",
      "Null Values:\n"
     ]
    },
    {
     "data": {
      "text/plain": [
       "Pregnancies                 0\n",
       "Glucose                     0\n",
       "BloodPressure               0\n",
       "SkinThickness               0\n",
       "Insulin                     0\n",
       "BMI                         0\n",
       "DiabetesPedigreeFunction    0\n",
       "Age                         0\n",
       "Outcome                     0\n",
       "AgeGroup                    0\n",
       "dtype: int64"
      ]
     },
     "execution_count": 11,
     "metadata": {},
     "output_type": "execute_result"
    }
   ],
   "source": [
    "df['BMI'] = df.apply(lambda row: mean_bmi_by_age.loc[mean_bmi_by_age['AgeGroup'] == row['AgeGroup'], 'BMI'].values[0] if pd.isna(row['BMI']) else row['BMI'], axis=1)\n",
    "\n",
    "df['SkinThickness'] = df.apply(lambda row: mean_skin_by_age.loc[mean_skin_by_age['AgeGroup'] == row['AgeGroup'], 'SkinThickness'].values[0] if pd.isna(row['SkinThickness']) else row['SkinThickness'], axis=1)\n",
    "\n",
    "df['Insulin'] = df.apply(lambda row: mean_Insulin_by_age.loc[mean_Insulin_by_age['AgeGroup'] == row['AgeGroup'], 'Insulin'].values[0] if pd.isna(row['Insulin']) else row['Insulin'], axis=1)\n",
    "\n",
    "df['Glucose'] = df.apply(lambda row: mean_Glucose_by_age.loc[mean_Glucose_by_age['AgeGroup'] == row['AgeGroup'], 'Glucose'].values[0] if pd.isna(row['Glucose']) else row['Glucose'], axis=1)\n",
    "\n",
    "df['BloodPressure'] = df.apply(lambda row: mean_BP_by_age.loc[mean_BP_by_age['AgeGroup'] == row['AgeGroup'], 'BloodPressure'].values[0] if pd.isna(row['BloodPressure']) else row['BloodPressure'], axis=1)\n",
    "\n",
    "print('\\n\\nNull Values:')\n",
    "df.isna().sum()"
   ]
  },
  {
   "cell_type": "markdown",
   "metadata": {},
   "source": [
    "Data is cleaned, now we try to understand it"
   ]
  },
  {
   "cell_type": "code",
   "execution_count": 12,
   "metadata": {},
   "outputs": [
    {
     "name": "stdout",
     "output_type": "stream",
     "text": [
      "Ys situation (Diabetes: T/F)\n",
      " Outcome\n",
      "0    499\n",
      "1    268\n",
      "Name: count, dtype: int64\n"
     ]
    }
   ],
   "source": [
    "print('Ys situation (Diabetes: T/F)\\n',df['Outcome'].value_counts())"
   ]
  },
  {
   "cell_type": "code",
   "execution_count": 13,
   "metadata": {},
   "outputs": [
    {
     "data": {
      "image/png": "[encoded data removed]",
      "text/plain": [
       "<Figure size 640x480 with 1 Axes>"
      ]
     },
     "metadata": {},
     "output_type": "display_data"
    }
   ],
   "source": [
    "bins_num = int((86-21)/5)\n",
    "plt.hist(df['Age'],bins=24,ec='white',color='green')\n",
    "plt.xticks(np.arange(21,86,5))\n",
    "plt.ylabel('Density')\n",
    "plt.xlabel('Age')\n",
    "plt.show()"
   ]
  },
  {
   "cell_type": "code",
   "execution_count": 14,
   "metadata": {},
   "outputs": [
    {
     "data": {
      "image/png": "[encoded data removed]",
      "text/plain": [
       "<Figure size 640x480 with 1 Axes>"
      ]
     },
     "metadata": {},
     "output_type": "display_data"
    }
   ],
   "source": [
    "plt.hist(df['BMI'],ec='white',color='green', bins=24)\n",
    "plt.xticks(np.arange(df['BMI'].min(),df['BMI'].max()+10,10))\n",
    "plt.ylabel('Density')\n",
    "plt.xlabel('BMI')\n",
    "plt.show()"
   ]
  },
  {
   "cell_type": "code",
   "execution_count": 15,
   "metadata": {},
   "outputs": [
    {
     "data": {
      "image/png": "[encoded data removed]",
      "text/plain": [
       "<Figure size 640x480 with 1 Axes>"
      ]
     },
     "metadata": {},
     "output_type": "display_data"
    }
   ],
   "source": [
    "plt.hist(df['Glucose'],ec='white',color='green', bins=24)\n",
    "plt.xticks(np.arange(df['Glucose'].min(),df['Glucose'].max()+10,10))\n",
    "plt.ylabel('Density')\n",
    "plt.xlabel('Glucose')\n",
    "plt.show()"
   ]
  },
  {
   "cell_type": "code",
   "execution_count": 16,
   "metadata": {},
   "outputs": [
    {
     "data": {
      "image/png": "[encoded data removed]",
      "text/plain": [
       "<Figure size 640x480 with 1 Axes>"
      ]
     },
     "metadata": {},
     "output_type": "display_data"
    }
   ],
   "source": [
    "plt.hist(df['BloodPressure'],ec='white',color='green', bins=24)\n",
    "plt.xticks(np.arange(df['BloodPressure'].min(),df['BloodPressure'].max()+10,10))\n",
    "plt.ylabel('Density')\n",
    "plt.xlabel('BloodPressure')\n",
    "plt.show()"
   ]
  },
  {
   "cell_type": "code",
   "execution_count": 17,
   "metadata": {},
   "outputs": [
    {
     "data": {
      "image/png": "[encoded data removed]",
      "text/plain": [
       "<Figure size 640x480 with 1 Axes>"
      ]
     },
     "metadata": {},
     "output_type": "display_data"
    }
   ],
   "source": [
    "plt.hist(df['Insulin'],ec='white',color='green', bins=24)\n",
    "plt.xticks(np.arange(df['Insulin'].min(),df['Insulin'].max(),100))\n",
    "plt.show()"
   ]
  },
  {
   "cell_type": "code",
   "execution_count": 18,
   "metadata": {},
   "outputs": [
    {
     "data": {
      "image/png": "[encoded data removed]",
      "text/plain": [
       "<Figure size 640x480 with 1 Axes>"
      ]
     },
     "metadata": {},
     "output_type": "display_data"
    }
   ],
   "source": [
    "plt.hist(df['DiabetesPedigreeFunction'],ec='white',color='green', bins=24)\n",
    "plt.xticks(np.arange(df['DiabetesPedigreeFunction'].min(),df['DiabetesPedigreeFunction'].max(),0.5))\n",
    "plt.show()"
   ]
  },
  {
   "cell_type": "markdown",
   "metadata": {},
   "source": [
    "normalizing data"
   ]
  },
  {
   "cell_type": "code",
   "execution_count": 19,
   "metadata": {},
   "outputs": [
    {
     "data": {
      "text/plain": [
       "Index(['Pregnancies', 'Glucose', 'BloodPressure', 'SkinThickness', 'Insulin',\n",
       "       'BMI', 'DiabetesPedigreeFunction', 'Age', 'Outcome', 'AgeGroup'],\n",
       "      dtype='object')"
      ]
     },
     "execution_count": 19,
     "metadata": {},
     "output_type": "execute_result"
    }
   ],
   "source": [
    "df.columns"
   ]
  },
  {
   "cell_type": "code",
   "execution_count": 20,
   "metadata": {},
   "outputs": [
    {
     "data": {
      "text/plain": [
       "array([[6.00000000e+00, 1.48000000e+02, 7.20000000e+01, 3.50000000e+01,\n",
       "        2.49440000e+02, 3.36000000e+01, 6.27000000e-01, 5.00000000e+01],\n",
       "       [1.00000000e+00, 8.50000000e+01, 6.60000000e+01, 2.90000000e+01,\n",
       "        1.64602564e+02, 2.66000000e+01, 3.51000000e-01, 3.10000000e+01],\n",
       "       [8.00000000e+00, 1.83000000e+02, 6.40000000e+01, 3.06203704e+01,\n",
       "        1.64602564e+02, 2.33000000e+01, 6.72000000e-01, 3.20000000e+01],\n",
       "       [1.00000000e+00, 8.90000000e+01, 6.60000000e+01, 2.30000000e+01,\n",
       "        9.40000000e+01, 2.81000000e+01, 1.67000000e-01, 2.10000000e+01],\n",
       "       [0.00000000e+00, 1.37000000e+02, 4.00000000e+01, 3.50000000e+01,\n",
       "        1.68000000e+02, 4.31000000e+01, 2.28800000e+00, 3.30000000e+01]])"
      ]
     },
     "execution_count": 20,
     "metadata": {},
     "output_type": "execute_result"
    }
   ],
   "source": [
    "x_data = df[['Pregnancies', 'Glucose', 'BloodPressure', 'SkinThickness', 'Insulin', 'BMI', 'DiabetesPedigreeFunction', 'Age']].values\n",
    "y_data = df[['Outcome']].values\n",
    "x_data[:5]"
   ]
  },
  {
   "cell_type": "code",
   "execution_count": 21,
   "metadata": {},
   "outputs": [
    {
     "data": {
      "text/plain": [
       "array([[ 0.63872696,  0.86424691, -0.0308324 ,  0.6301896 ,  0.95370915,\n",
       "         0.16699439,  0.467638  ,  1.42463671],\n",
       "       [-0.84582934, -1.20660676, -0.52580863, -0.04632602,  0.02112676,\n",
       "        -0.85109636, -0.36549383, -0.19177802],\n",
       "       [ 1.23254948,  2.01472117, -0.69080071,  0.13637496,  0.02112676,\n",
       "        -1.33105343,  0.60347471, -0.10670356],\n",
       "       [-0.84582934, -1.07512399, -0.52580863, -0.72284163, -0.75497764,\n",
       "        -0.63293405, -0.92091504, -1.04252262],\n",
       "       [-1.14274059,  0.50266928, -2.67070563,  0.6301896 ,  0.05847335,\n",
       "         1.54868898,  5.4815219 , -0.0216291 ]])"
      ]
     },
     "execution_count": 21,
     "metadata": {},
     "output_type": "execute_result"
    }
   ],
   "source": [
    "from sklearn import preprocessing\n",
    "scaler = preprocessing.StandardScaler().fit(x_data)\n",
    "x_data = scaler.transform(x_data.astype(float))\n",
    "\n",
    "x_data[:5]"
   ]
  },
  {
   "cell_type": "markdown",
   "metadata": {},
   "source": [
    "splitting train and test data:"
   ]
  },
  {
   "cell_type": "code",
   "execution_count": 22,
   "metadata": {},
   "outputs": [
    {
     "name": "stdout",
     "output_type": "stream",
     "text": [
      "test data size:  154\n",
      "train data size:  613\n"
     ]
    }
   ],
   "source": [
    "from sklearn.model_selection import train_test_split\n",
    "x_train, x_test, y_train, y_test = train_test_split(x_data,y_data,train_size=0.8,random_state=1)\n",
    "y_test = np.ravel(y_test)\n",
    "y_train = np.ravel(y_train)\n",
    "print('test data size: ', len(x_test))\n",
    "print('train data size: ', len(x_train))"
   ]
  },
  {
   "cell_type": "markdown",
   "metadata": {},
   "source": [
    "training the model"
   ]
  },
  {
   "cell_type": "code",
   "execution_count": 23,
   "metadata": {},
   "outputs": [],
   "source": [
    "from sklearn.neighbors import KNeighborsClassifier\n",
    "k = 6\n",
    "knn_model = KNeighborsClassifier(n_neighbors=k).fit(x_train,y_train)"
   ]
  },
  {
   "cell_type": "markdown",
   "metadata": {},
   "source": [
    "predicting y_hat, evaluating model"
   ]
  },
  {
   "cell_type": "code",
   "execution_count": 24,
   "metadata": {},
   "outputs": [
    {
     "name": "stdout",
     "output_type": "stream",
     "text": [
      "predict:  [0 0 0 0 0 1 0 0 0 0 0 0 1 0 0 1 0 0 0 0]\n",
      "actual:   [0 0 0 0 0 0 0 0 0 0 1 0 1 1 0 1 1 0 0 0]\n"
     ]
    }
   ],
   "source": [
    "y_hat = knn_model.predict(x_test)\n",
    "\n",
    "print('predict: ',y_hat[0:20])\n",
    "print('actual:  ',y_test[0:20])"
   ]
  },
  {
   "cell_type": "code",
   "execution_count": 25,
   "metadata": {},
   "outputs": [
    {
     "name": "stdout",
     "output_type": "stream",
     "text": [
      "accuracy score: 0.7338\n"
     ]
    }
   ],
   "source": [
    "from sklearn import metrics\n",
    "print('accuracy score: %.4f' % metrics.accuracy_score(y_test,y_hat))"
   ]
  },
  {
   "cell_type": "markdown",
   "metadata": {},
   "source": [
    "now we loop over different Ks to achieve most accuracy"
   ]
  },
  {
   "cell_type": "code",
   "execution_count": 26,
   "metadata": {},
   "outputs": [
    {
     "name": "stdout",
     "output_type": "stream",
     "text": [
      "accuracy for k=1 is 0.616883\n",
      "accuracy for k=2 is 0.707792\n",
      "accuracy for k=3 is 0.740260\n",
      "accuracy for k=4 is 0.766234\n",
      "accuracy for k=5 is 0.766234\n",
      "accuracy for k=6 is 0.733766\n",
      "accuracy for k=7 is 0.759740\n",
      "accuracy for k=8 is 0.753247\n",
      "accuracy for k=9 is 0.759740\n"
     ]
    }
   ],
   "source": [
    "acc = np.zeros(9)\n",
    "for k in range(1,10):\n",
    "    knn_model = KNeighborsClassifier(n_neighbors=k).fit(x_train,y_train)\n",
    "    y_hat = knn_model.predict(x_test)\n",
    "    acc[k-1] = metrics.accuracy_score(y_test,y_hat)\n",
    "    print('accuracy for k=%i is %f' %(k,acc[k-1]))"
   ]
  },
  {
   "cell_type": "code",
   "execution_count": 27,
   "metadata": {},
   "outputs": [
    {
     "name": "stdout",
     "output_type": "stream",
     "text": [
      "best accuracy(0.7662) was at k=4\n"
     ]
    }
   ],
   "source": [
    "print('best accuracy(%.4f) was at k=%i' %(acc.max(),acc.argmax()+1))"
   ]
  },
  {
   "cell_type": "code",
   "execution_count": null,
   "metadata": {},
   "outputs": [],
   "source": []
  }
 ],
 "metadata": {
  "kernelspec": {
   "display_name": "Python 3",
   "language": "python",
   "name": "python3"
  },
  "language_info": {
   "codemirror_mode": {
    "name": "ipython",
    "version": 3
   },
   "file_extension": ".py",
   "mimetype": "text/x-python",
   "name": "python",
   "nbconvert_exporter": "python",
   "pygments_lexer": "ipython3",
   "version": "3.11.5"
  }
 },
 "nbformat": 4,
 "nbformat_minor": 2
}
